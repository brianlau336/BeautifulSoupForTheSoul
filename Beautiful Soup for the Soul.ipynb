{
 "cells": [
  {
   "attachments": {},
   "cell_type": "markdown",
   "metadata": {},
   "source": [
    "<h1> Beautiful Soup For The Soul </h1>\n",
    "<hr>\n",
    "<h2> Introduction </h2><hr>\n",
    "So I heard you're looking for some data?  Well, you've come to the right place. \n",
    "\n",
    "But what do you do when the data you need doesn't come wrapped in a neat API?  Or that dataset doesn't have a \"download as csv\" button?  Inconcievable!  But never fear, web scraping is here!  \n",
    "\n",
    "<br>\n",
    "Web scraping is exactly what it sounds like: extracting data from websites.  But before we delve into Beautiful Soup, the web scraping library for Python, we have to take a step back and re-visit the good 'ole Myspace days editing HTML to make that perfect layout.  So strap in, and let's take a look at some basic HTML.\n",
    "\n",
    "![](https://i.imgflip.com/r74yt.jpg)"
   ]
  },
  {
   "cell_type": "markdown",
   "metadata": {},
   "source": [
    "\n",
    "<h2> HTML </h2><hr>\n",
    "HTML is the standard markup language for creating web pages and web applications.  HTML is <b>not</b> a programming language, like Python — instead, it's a markup language that tells a browser how to display content. HTML is versy similar to programs like Microsoft Word where you can make text bold, create paragraphs, etc.\n",
    "\n",
    "HTML consists of elements called tags. The most basic tag is the `<html>` tag. This tag tells the web browser that everything between the two tags can be expected to be HTML."
   ]
  },
  {
   "cell_type": "markdown",
   "metadata": {},
   "source": [
    "```html\n",
    "<html>\n",
    "    <head>\n",
    "    </head>\n",
    "    <body>\n",
    "        <p class=\"bold-paragraph\">\n",
    "            Here's a paragraph of text!\n",
    "            <a href=\"https://www.chase.com\" id=\"banking\">Bank with Chase!</a>\n",
    "        </p>\n",
    "        <p class=\"bold-paragraph extra-large\">\n",
    "            Here's a second paragraph of text!\n",
    "            <a href=\"https://www.python.org\" class=\"extra-large\">Python</a>\n",
    "        </p>\n",
    "    </body>\n",
    "</html>\n",
    "```"
   ]
  },
  {
   "cell_type": "markdown",
   "metadata": {},
   "source": [
    "<h3>Tag Genealogy:</h3>\n",
    "    \n",
    "<b>child</b> — a child is a tag inside another tag<br>\n",
    "<b>parent</b> — a parent is the tag another tag is inside<br>\n",
    "<b>sibling</b> — a sibiling is a tag that is nested inside the same parent as another tag\n",
    "\n",
    "<h3>Tag Identifiers:</h3>\n",
    "\n",
    "<b>class</b> —  One element can have multiple classes, and a class can be shared between elements<br>\n",
    "<b>id</b> — Each element can only have one id, and an id can only be used once on a page\n",
    "\n",
    "![](https://upload.wikimedia.org/wikipedia/commons/5/55/HTML_element_structure.svg)"
   ]
  },
  {
   "cell_type": "markdown",
   "metadata": {},
   "source": [
    "<h2> Requests Library </h2><hr>\n",
    "The first step in scraping a web page is retrieving the web page.  We can do this with the requests library.  The requests library will make a GET request to a web server, which will download the HTML contents of a given web page for us."
   ]
  },
  {
   "cell_type": "code",
   "execution_count": null,
   "metadata": {},
   "outputs": [],
   "source": [
    "import requests\n",
    "\n",
    "page = requests.get(\"http://www.google.com\")\n",
    "page"
   ]
  },
  {
   "cell_type": "markdown",
   "metadata": {},
   "source": [
    "After running our request, we get a `Response` object. This object has a status_code property, which indicates if the page was downloaded successfully\n",
    "\n"
   ]
  },
  {
   "cell_type": "code",
   "execution_count": null,
   "metadata": {},
   "outputs": [],
   "source": [
    "page.status_code"
   ]
  },
  {
   "cell_type": "markdown",
   "metadata": {},
   "source": [
    "A few possible responses:<br>\n",
    "200 <b>OK</b> - The resource has been fetched and is transmitted in the message body.<br>\n",
    "400 <b>Bad Request</b> - This response means that server could not understand the request due to invalid syntax.<br>\n",
    "500 <b>Internal Server Error</b> The server has encountered a situation it doesn't know how to handle.<br>\n",
    "\n",
    "We can print the HTML of the page:"
   ]
  },
  {
   "cell_type": "code",
   "execution_count": null,
   "metadata": {},
   "outputs": [],
   "source": [
    "page.content"
   ]
  },
  {
   "cell_type": "markdown",
   "metadata": {},
   "source": [
    "<h2> Beautiful Soup Library </h2><hr>\n",
    "Now that we have the raw HTML, we can use what we can start parsing with our Soup!"
   ]
  },
  {
   "cell_type": "code",
   "execution_count": null,
   "metadata": {},
   "outputs": [],
   "source": [
    "example_page = '''<!DOCTYPE html>\n",
    "<html>\n",
    "    <head>\n",
    "    </head>\n",
    "    <body>\n",
    "        <p class=\"test1\">Here's a paragraph of text!</p>\n",
    "        <p class=\"test2\">Here's a second paragraph of text!</p>\n",
    "    </body>\n",
    "</html>'''\n",
    "#http://htmlpreview.github.io/?https://github.com/brianlau336/BeautifulSoupForTheSoul/blob/master/example_page1.html"
   ]
  },
  {
   "cell_type": "code",
   "execution_count": null,
   "metadata": {},
   "outputs": [],
   "source": [
    "from bs4 import BeautifulSoup\n",
    "soup = BeautifulSoup(example_page, 'html.parser')\n",
    "print(soup.prettify())"
   ]
  },
  {
   "cell_type": "code",
   "execution_count": null,
   "metadata": {},
   "outputs": [],
   "source": [
    "soup.children"
   ]
  },
  {
   "cell_type": "code",
   "execution_count": null,
   "metadata": {},
   "outputs": [],
   "source": [
    "[x for x in soup.children] #list(soup.children)"
   ]
  },
  {
   "cell_type": "code",
   "execution_count": null,
   "metadata": {},
   "outputs": [],
   "source": [
    "[type(item) for item in list(soup.children)]\n"
   ]
  },
  {
   "cell_type": "code",
   "execution_count": null,
   "metadata": {},
   "outputs": [],
   "source": [
    "html = list(soup.children)[2]\n",
    "html"
   ]
  },
  {
   "cell_type": "code",
   "execution_count": null,
   "metadata": {},
   "outputs": [],
   "source": [
    "list(html.children)"
   ]
  },
  {
   "cell_type": "code",
   "execution_count": null,
   "metadata": {},
   "outputs": [],
   "source": [
    "body = list(html.children)[3]\n",
    "body"
   ]
  },
  {
   "cell_type": "code",
   "execution_count": null,
   "metadata": {},
   "outputs": [],
   "source": [
    "p = list(body.children)[1]\n",
    "p"
   ]
  },
  {
   "cell_type": "code",
   "execution_count": null,
   "metadata": {},
   "outputs": [],
   "source": [
    "p.get_text()"
   ]
  },
  {
   "cell_type": "markdown",
   "metadata": {},
   "source": [
    "<h3> Find All Tags </h3>\n",
    "Okay, now that was somewhat painful.  Thankfully, we don't have to manually drill down like that every time.  If we want to extract a single tag, we can use the find_all method which will find all the instances of the tag on the page and return a list.\n",
    "\n",
    "![](https://i.imgflip.com/2nn9l6.jpg)"
   ]
  },
  {
   "cell_type": "code",
   "execution_count": null,
   "metadata": {},
   "outputs": [],
   "source": [
    "soup.find_all('p')\n"
   ]
  },
  {
   "cell_type": "code",
   "execution_count": null,
   "metadata": {},
   "outputs": [],
   "source": [
    "for x in soup.find_all('p'):\n",
    "    print (x.get_text().strip())"
   ]
  },
  {
   "cell_type": "markdown",
   "metadata": {},
   "source": [
    "If you instead only want to find the first instance of a tag, you can use the find method, which will return a single `BeautifulSoup` object"
   ]
  },
  {
   "cell_type": "code",
   "execution_count": null,
   "metadata": {},
   "outputs": [],
   "source": [
    "soup.find('p')"
   ]
  },
  {
   "cell_type": "markdown",
   "metadata": {},
   "source": [
    "<h3> Searching By Genealogy/Relations </h3>\n",
    "The Beautiful Soup API defines ten other methods for searching the tree, but don’t be afraid! Five of these methods are basically the same as find_all(), and the other five are basically the same as find(). The only differences are in what parts of the tree they search.\n",
    "\n"
   ]
  },
  {
   "cell_type": "code",
   "execution_count": null,
   "metadata": {
    "scrolled": true
   },
   "outputs": [],
   "source": [
    "first_p = soup.find('p')\n",
    "first_p.find_parent()"
   ]
  },
  {
   "cell_type": "code",
   "execution_count": null,
   "metadata": {},
   "outputs": [],
   "source": [
    "first_p = soup.find('p')\n",
    "first_p.find_next_sibling()"
   ]
  },
  {
   "cell_type": "markdown",
   "metadata": {},
   "source": [
    "<h3> Searching By Class/Id </h3>\n",
    "Classes and ids are used by CSS to determine which HTML elements to apply certain styles to. We can also use them when scraping to specify specific elements we want to scrape. \n",
    "\n"
   ]
  },
  {
   "cell_type": "code",
   "execution_count": null,
   "metadata": {},
   "outputs": [],
   "source": [
    "example_page2 = '''<!DOCTYPE html>\n",
    "<html>\n",
    "    <head>\n",
    "        <title>A simple example page</title>\n",
    "    </head>\n",
    "    <body>\n",
    "        <div>\n",
    "            <p class=\"inner-text first-item\" id=\"first\">\n",
    "                First paragraph.\n",
    "            </p>\n",
    "            <p class=\"inner-text\">\n",
    "                Second paragraph.\n",
    "            </p>\n",
    "        </div>\n",
    "        <p class=\"outer-text first-item\" id=\"second\">\n",
    "        <b>\n",
    "                First outer paragraph.\n",
    "            </b>\n",
    "        </p>\n",
    "        <p class=\"outer-text\">\n",
    "            <b>\n",
    "                Second outer paragraph.\n",
    "            </b>\n",
    "        </p>\n",
    "    </body>\n",
    "</html>'''\n",
    "#http://htmlpreview.github.io/?https://github.com/brianlau336/BeautifulSoupForTheSoul/blob/master/example_page2.html\n",
    "from bs4 import BeautifulSoup\n",
    "soup = BeautifulSoup(example_page2, 'html.parser')\n",
    "print(soup.prettify())"
   ]
  },
  {
   "cell_type": "markdown",
   "metadata": {},
   "source": [
    "Now, we can use the `find_all` method to search for items by class or by id. In the below example, we'll search for any p tag that has the class outer-text:\n",
    "\n"
   ]
  },
  {
   "cell_type": "code",
   "execution_count": null,
   "metadata": {},
   "outputs": [],
   "source": [
    "soup.find_all('p', class_='outer-text')\n"
   ]
  },
  {
   "cell_type": "markdown",
   "metadata": {},
   "source": [
    "We can also search for elements by id:\n"
   ]
  },
  {
   "cell_type": "code",
   "execution_count": null,
   "metadata": {},
   "outputs": [],
   "source": [
    "soup.find_all(id=\"first\")\n"
   ]
  },
  {
   "cell_type": "markdown",
   "metadata": {},
   "source": [
    "You can also search for items using CSS selectors. These selectors are how the CSS language allows developers to specify HTML tags to style. Here are some examples:"
   ]
  },
  {
   "cell_type": "code",
   "execution_count": null,
   "metadata": {},
   "outputs": [],
   "source": [
    "soup.select(\"div p\")"
   ]
  },
  {
   "cell_type": "markdown",
   "metadata": {},
   "source": [
    "<h2> A Real Life Example - Houston Weather Data</h2><hr>\n",
    "Let's say you wanted to grab some weather data for Houston, and you couldn't find any viable API's to use.  You stumble across the National Weather Service website and oh look! They have exactly what you want.  Time to flex those scraping skills.\n",
    "\n",
    "![](https://i.pinimg.com/474x/b7/b9/17/b7b9175d8dba8065f71d0d7a8bba9d91--funny-weather-weather-memes.jpg)"
   ]
  },
  {
   "cell_type": "markdown",
   "metadata": {},
   "source": [
    "Step 1: Download the web page containing the forecast.\n"
   ]
  },
  {
   "cell_type": "code",
   "execution_count": 87,
   "metadata": {},
   "outputs": [],
   "source": [
    "import requests\n",
    "from bs4 import BeautifulSoup\n",
    "page = requests.get(\"https://forecast.weather.gov/MapClick.php?lat=29.7606&lon=-95.3697\")\n",
    "soup = BeautifulSoup(page.content, 'html.parser')"
   ]
  },
  {
   "cell_type": "markdown",
   "metadata": {},
   "source": [
    "Step 2: Find the div with id \"seven-day-forecast\", and assign it to week_forecast"
   ]
  },
  {
   "cell_type": "code",
   "execution_count": 93,
   "metadata": {},
   "outputs": [],
   "source": [
    "week_forecast = soup.find(id=\"seven-day-forecast\")"
   ]
  },
  {
   "cell_type": "markdown",
   "metadata": {},
   "source": [
    "Step 3: Inside week_forecast, find each individual forecast item "
   ]
  },
  {
   "cell_type": "code",
   "execution_count": 94,
   "metadata": {},
   "outputs": [],
   "source": [
    "forecast_items = week_forecast.find_all(class_=\"tombstone-container\")"
   ]
  },
  {
   "cell_type": "markdown",
   "metadata": {},
   "source": [
    "Step 4: Extract and print the first forecast item."
   ]
  },
  {
   "cell_type": "code",
   "execution_count": 90,
   "metadata": {},
   "outputs": [
    {
     "name": "stdout",
     "output_type": "stream",
     "text": [
      "<div class=\"tombstone-container\">\n",
      " <p class=\"period-name\">\n",
      "  Today\n",
      "  <br/>\n",
      "  <br/>\n",
      " </p>\n",
      " <p>\n",
      "  <img alt=\"Today: Partly sunny, with a high near 70. South wind 5 to 10 mph. \" class=\"forecast-icon\" src=\"newimages/medium/bkn.png\" title=\"Today: Partly sunny, with a high near 70. South wind 5 to 10 mph. \"/>\n",
      " </p>\n",
      " <p class=\"short-desc\">\n",
      "  Partly Sunny\n",
      " </p>\n",
      " <p class=\"temp temp-high\">\n",
      "  High: 70 °F\n",
      " </p>\n",
      "</div>\n"
     ]
    }
   ],
   "source": [
    "tonight = forecast_items[0]\n",
    "print(tonight.prettify())"
   ]
  },
  {
   "cell_type": "markdown",
   "metadata": {},
   "source": [
    "Okay cool, that forecast item (day) we drilled down into has everything we want!  \n",
    "Looking at what we have, we can extract 4 major data points:\n",
    "\n",
    "1. The name of the forecast item under \"period-name\" class<br>\n",
    "2. The description of the conditions within the \"title\" property of img. This is a little different so we'll come back to it later.<br>\n",
    "3. A short description of the conditions under \"short-desc\" class<br>\n",
    "4. The temperature low under \"temp\" class<br>"
   ]
  },
  {
   "cell_type": "code",
   "execution_count": 95,
   "metadata": {},
   "outputs": [
    {
     "name": "stdout",
     "output_type": "stream",
     "text": [
      "Today\n",
      "Partly Sunny\n",
      "High: 70 °F\n"
     ]
    }
   ],
   "source": [
    "period = tonight.find(class_=\"period-name\").get_text()\n",
    "short_desc = tonight.find(class_=\"short-desc\").get_text()\n",
    "temp = tonight.find(class_=\"temp\").get_text()\n",
    "\n",
    "print(period)\n",
    "print(short_desc)\n",
    "print(temp)"
   ]
  },
  {
   "cell_type": "markdown",
   "metadata": {},
   "source": [
    "Now, we can extract the \"title\" attribute from the img tag. To do this, we just treat the BeautifulSoup object like a dictionary, and pass in the attribute we want as a key:"
   ]
  },
  {
   "cell_type": "code",
   "execution_count": 96,
   "metadata": {},
   "outputs": [
    {
     "name": "stdout",
     "output_type": "stream",
     "text": [
      "Today: Partly sunny, with a high near 70. South wind 5 to 10 mph. \n"
     ]
    }
   ],
   "source": [
    "img = tonight.find(\"img\")\n",
    "desc = img['title']\n",
    "\n",
    "print(desc)"
   ]
  },
  {
   "cell_type": "markdown",
   "metadata": {},
   "source": [
    "Now that we know how to extract each individual piece of information, we can combine our knowledge with css selectors and lists to extract everything at once.\n",
    "\n",
    "So let's select all items with the class period-name inside an item with the class tombstone-container in seven_day.\n",
    "We can use list comprehension to call the get_text method on each BeautifulSoup object."
   ]
  },
  {
   "cell_type": "code",
   "execution_count": 97,
   "metadata": {},
   "outputs": [
    {
     "data": {
      "text/plain": [
       "['Today',\n",
       " 'Tonight',\n",
       " 'Thursday',\n",
       " 'ThursdayNight',\n",
       " 'Friday',\n",
       " 'FridayNight',\n",
       " 'Saturday',\n",
       " 'SaturdayNight',\n",
       " 'Sunday']"
      ]
     },
     "execution_count": 97,
     "metadata": {},
     "output_type": "execute_result"
    }
   ],
   "source": [
    "period_tags = seven_day.select(\".tombstone-container .period-name\")\n",
    "periods = [pt.get_text() for pt in period_tags]\n",
    "periods"
   ]
  },
  {
   "cell_type": "code",
   "execution_count": 98,
   "metadata": {},
   "outputs": [
    {
     "name": "stdout",
     "output_type": "stream",
     "text": [
      "['Partly Sunny', 'Mostly Cloudy', 'ChanceShowers', 'ChanceShowers', 'ChanceT-storms', 'ChanceT-storms', 'ChanceT-storms thenSunny', 'Mostly Clear', 'Slight ChanceShowers']\n",
      "['High: 70 °F', 'Low: 62 °F', 'High: 77 °F', 'Low: 66 °F', 'High: 78 °F', 'Low: 65 °F', 'High: 78 °F', 'Low: 57 °F', 'High: 75 °F']\n",
      "['Today: Partly sunny, with a high near 70. South wind 5 to 10 mph. ', 'Tonight: Mostly cloudy, with a low around 62. South wind around 10 mph. ', 'Thursday: A 40 percent chance of showers after 7am.  Mostly cloudy, with a high near 77. South wind 5 to 10 mph. ', 'Thursday Night: A 40 percent chance of showers.  Mostly cloudy, with a low around 66. South wind around 10 mph. ', 'Friday: A chance of showers, with thunderstorms also possible after 7am.  Mostly cloudy, with a high near 78. Southeast wind around 10 mph.  Chance of precipitation is 40%.', 'Friday Night: A 40 percent chance of showers and thunderstorms.  Mostly cloudy, with a low around 65.', 'Saturday: A 30 percent chance of showers and thunderstorms before 7am.  Sunny, with a high near 78.', 'Saturday Night: Mostly clear, with a low around 57.', 'Sunday: A 20 percent chance of showers after 7am.  Mostly sunny, with a high near 75.']\n"
     ]
    }
   ],
   "source": [
    "short_descs = [sd.get_text() for sd in week_forecast.select(\".tombstone-container .short-desc\")]\n",
    "temps = [t.get_text() for t in week_forecast.select(\".tombstone-container .temp\")]\n",
    "descs = [d[\"title\"] for d in week_forecast.select(\".tombstone-container img\")]\n",
    "\n",
    "print(short_descs)\n",
    "print(temps)\n",
    "print(descs)"
   ]
  },
  {
   "cell_type": "markdown",
   "metadata": {},
   "source": [
    "<h2>Pandas!</h2><hr>\n",
    "Okay, so we have a bunch of lists with data...hm...does this look familiar? \n",
    "\n",
    "We can now combine the data into a Pandas DataFrame and analyze it.\n",
    "\n",
    "In order to do this, we'll call the DataFrame class, and pass in each list of items that we have. We pass them in as part of a dictionary. Each dictionary key will become a column in the DataFrame, and each list will become the values in the column:"
   ]
  },
  {
   "cell_type": "code",
   "execution_count": 104,
   "metadata": {
    "scrolled": true
   },
   "outputs": [
    {
     "data": {
      "text/html": [
       "<div>\n",
       "<style scoped>\n",
       "    .dataframe tbody tr th:only-of-type {\n",
       "        vertical-align: middle;\n",
       "    }\n",
       "\n",
       "    .dataframe tbody tr th {\n",
       "        vertical-align: top;\n",
       "    }\n",
       "\n",
       "    .dataframe thead th {\n",
       "        text-align: right;\n",
       "    }\n",
       "</style>\n",
       "<table border=\"1\" class=\"dataframe\">\n",
       "  <thead>\n",
       "    <tr style=\"text-align: right;\">\n",
       "      <th></th>\n",
       "      <th>period</th>\n",
       "      <th>short_desc</th>\n",
       "      <th>temp</th>\n",
       "      <th>desc</th>\n",
       "    </tr>\n",
       "  </thead>\n",
       "  <tbody>\n",
       "    <tr>\n",
       "      <th>0</th>\n",
       "      <td>Today</td>\n",
       "      <td>Partly Sunny</td>\n",
       "      <td>High: 70 °F</td>\n",
       "      <td>Today: Partly sunny, with a high near 70. Sout...</td>\n",
       "    </tr>\n",
       "    <tr>\n",
       "      <th>1</th>\n",
       "      <td>Tonight</td>\n",
       "      <td>Mostly Cloudy</td>\n",
       "      <td>Low: 62 °F</td>\n",
       "      <td>Tonight: Mostly cloudy, with a low around 62. ...</td>\n",
       "    </tr>\n",
       "    <tr>\n",
       "      <th>2</th>\n",
       "      <td>Thursday</td>\n",
       "      <td>ChanceShowers</td>\n",
       "      <td>High: 77 °F</td>\n",
       "      <td>Thursday: A 40 percent chance of showers after...</td>\n",
       "    </tr>\n",
       "    <tr>\n",
       "      <th>3</th>\n",
       "      <td>ThursdayNight</td>\n",
       "      <td>ChanceShowers</td>\n",
       "      <td>Low: 66 °F</td>\n",
       "      <td>Thursday Night: A 40 percent chance of showers...</td>\n",
       "    </tr>\n",
       "    <tr>\n",
       "      <th>4</th>\n",
       "      <td>Friday</td>\n",
       "      <td>ChanceT-storms</td>\n",
       "      <td>High: 78 °F</td>\n",
       "      <td>Friday: A chance of showers, with thunderstorm...</td>\n",
       "    </tr>\n",
       "    <tr>\n",
       "      <th>5</th>\n",
       "      <td>FridayNight</td>\n",
       "      <td>ChanceT-storms</td>\n",
       "      <td>Low: 65 °F</td>\n",
       "      <td>Friday Night: A 40 percent chance of showers a...</td>\n",
       "    </tr>\n",
       "    <tr>\n",
       "      <th>6</th>\n",
       "      <td>Saturday</td>\n",
       "      <td>ChanceT-storms thenSunny</td>\n",
       "      <td>High: 78 °F</td>\n",
       "      <td>Saturday: A 30 percent chance of showers and t...</td>\n",
       "    </tr>\n",
       "    <tr>\n",
       "      <th>7</th>\n",
       "      <td>SaturdayNight</td>\n",
       "      <td>Mostly Clear</td>\n",
       "      <td>Low: 57 °F</td>\n",
       "      <td>Saturday Night: Mostly clear, with a low aroun...</td>\n",
       "    </tr>\n",
       "    <tr>\n",
       "      <th>8</th>\n",
       "      <td>Sunday</td>\n",
       "      <td>Slight ChanceShowers</td>\n",
       "      <td>High: 75 °F</td>\n",
       "      <td>Sunday: A 20 percent chance of showers after 7...</td>\n",
       "    </tr>\n",
       "  </tbody>\n",
       "</table>\n",
       "</div>"
      ],
      "text/plain": [
       "          period                short_desc         temp  \\\n",
       "0          Today              Partly Sunny  High: 70 °F   \n",
       "1        Tonight             Mostly Cloudy   Low: 62 °F   \n",
       "2       Thursday             ChanceShowers  High: 77 °F   \n",
       "3  ThursdayNight             ChanceShowers   Low: 66 °F   \n",
       "4         Friday            ChanceT-storms  High: 78 °F   \n",
       "5    FridayNight            ChanceT-storms   Low: 65 °F   \n",
       "6       Saturday  ChanceT-storms thenSunny  High: 78 °F   \n",
       "7  SaturdayNight              Mostly Clear   Low: 57 °F   \n",
       "8         Sunday      Slight ChanceShowers  High: 75 °F   \n",
       "\n",
       "                                                desc  \n",
       "0  Today: Partly sunny, with a high near 70. Sout...  \n",
       "1  Tonight: Mostly cloudy, with a low around 62. ...  \n",
       "2  Thursday: A 40 percent chance of showers after...  \n",
       "3  Thursday Night: A 40 percent chance of showers...  \n",
       "4  Friday: A chance of showers, with thunderstorm...  \n",
       "5  Friday Night: A 40 percent chance of showers a...  \n",
       "6  Saturday: A 30 percent chance of showers and t...  \n",
       "7  Saturday Night: Mostly clear, with a low aroun...  \n",
       "8  Sunday: A 20 percent chance of showers after 7...  "
      ]
     },
     "execution_count": 104,
     "metadata": {},
     "output_type": "execute_result"
    }
   ],
   "source": [
    "import pandas as pd\n",
    "weather = pd.DataFrame({\n",
    "        \"period\": periods, \n",
    "        \"short_desc\": short_descs, \n",
    "        \"temp\": temps, \n",
    "        \"desc\":descs\n",
    "    })\n",
    "weather"
   ]
  },
  {
   "cell_type": "markdown",
   "metadata": {},
   "source": [
    "We can now do some analysis on the data. For example, we can use a regular expression and the Series.str.extract method to pull out the numeric temperature values:"
   ]
  },
  {
   "cell_type": "code",
   "execution_count": 109,
   "metadata": {},
   "outputs": [
    {
     "data": {
      "text/plain": [
       "0    70\n",
       "1    62\n",
       "2    77\n",
       "3    66\n",
       "4    78\n",
       "5    65\n",
       "6    78\n",
       "7    57\n",
       "8    75\n",
       "Name: temp_num, dtype: object"
      ]
     },
     "execution_count": 109,
     "metadata": {},
     "output_type": "execute_result"
    }
   ],
   "source": [
    "temp_nums = weather[\"temp\"].str.extract(\"(?P<temp_num>\\d+)\", expand=False)\n",
    "weather[\"temp_num\"] = temp_nums.astype('int')\n",
    "temp_nums"
   ]
  },
  {
   "cell_type": "markdown",
   "metadata": {},
   "source": [
    "We could then find the mean of all the high and low temperatures:\n",
    "\n"
   ]
  },
  {
   "cell_type": "code",
   "execution_count": 110,
   "metadata": {},
   "outputs": [
    {
     "data": {
      "text/plain": [
       "69.77777777777777"
      ]
     },
     "execution_count": 110,
     "metadata": {},
     "output_type": "execute_result"
    }
   ],
   "source": [
    "weather[\"temp_num\"].mean()"
   ]
  },
  {
   "cell_type": "markdown",
   "metadata": {},
   "source": [
    "We could also only select the rows that happen at night:\n"
   ]
  },
  {
   "cell_type": "code",
   "execution_count": 111,
   "metadata": {},
   "outputs": [
    {
     "data": {
      "text/plain": [
       "0    False\n",
       "1     True\n",
       "2    False\n",
       "3     True\n",
       "4    False\n",
       "5     True\n",
       "6    False\n",
       "7     True\n",
       "8    False\n",
       "Name: temp, dtype: bool"
      ]
     },
     "execution_count": 111,
     "metadata": {},
     "output_type": "execute_result"
    }
   ],
   "source": [
    "is_night = weather[\"temp\"].str.contains(\"Low\")\n",
    "weather[\"is_night\"] = is_night\n",
    "is_night"
   ]
  },
  {
   "cell_type": "code",
   "execution_count": 112,
   "metadata": {},
   "outputs": [
    {
     "data": {
      "text/html": [
       "<div>\n",
       "<style scoped>\n",
       "    .dataframe tbody tr th:only-of-type {\n",
       "        vertical-align: middle;\n",
       "    }\n",
       "\n",
       "    .dataframe tbody tr th {\n",
       "        vertical-align: top;\n",
       "    }\n",
       "\n",
       "    .dataframe thead th {\n",
       "        text-align: right;\n",
       "    }\n",
       "</style>\n",
       "<table border=\"1\" class=\"dataframe\">\n",
       "  <thead>\n",
       "    <tr style=\"text-align: right;\">\n",
       "      <th></th>\n",
       "      <th>period</th>\n",
       "      <th>short_desc</th>\n",
       "      <th>temp</th>\n",
       "      <th>desc</th>\n",
       "      <th>temp_num</th>\n",
       "      <th>is_night</th>\n",
       "    </tr>\n",
       "  </thead>\n",
       "  <tbody>\n",
       "    <tr>\n",
       "      <th>1</th>\n",
       "      <td>Tonight</td>\n",
       "      <td>Mostly Cloudy</td>\n",
       "      <td>Low: 62 °F</td>\n",
       "      <td>Tonight: Mostly cloudy, with a low around 62. ...</td>\n",
       "      <td>62</td>\n",
       "      <td>True</td>\n",
       "    </tr>\n",
       "    <tr>\n",
       "      <th>3</th>\n",
       "      <td>ThursdayNight</td>\n",
       "      <td>ChanceShowers</td>\n",
       "      <td>Low: 66 °F</td>\n",
       "      <td>Thursday Night: A 40 percent chance of showers...</td>\n",
       "      <td>66</td>\n",
       "      <td>True</td>\n",
       "    </tr>\n",
       "    <tr>\n",
       "      <th>5</th>\n",
       "      <td>FridayNight</td>\n",
       "      <td>ChanceT-storms</td>\n",
       "      <td>Low: 65 °F</td>\n",
       "      <td>Friday Night: A 40 percent chance of showers a...</td>\n",
       "      <td>65</td>\n",
       "      <td>True</td>\n",
       "    </tr>\n",
       "    <tr>\n",
       "      <th>7</th>\n",
       "      <td>SaturdayNight</td>\n",
       "      <td>Mostly Clear</td>\n",
       "      <td>Low: 57 °F</td>\n",
       "      <td>Saturday Night: Mostly clear, with a low aroun...</td>\n",
       "      <td>57</td>\n",
       "      <td>True</td>\n",
       "    </tr>\n",
       "  </tbody>\n",
       "</table>\n",
       "</div>"
      ],
      "text/plain": [
       "          period      short_desc        temp  \\\n",
       "1        Tonight   Mostly Cloudy  Low: 62 °F   \n",
       "3  ThursdayNight   ChanceShowers  Low: 66 °F   \n",
       "5    FridayNight  ChanceT-storms  Low: 65 °F   \n",
       "7  SaturdayNight    Mostly Clear  Low: 57 °F   \n",
       "\n",
       "                                                desc  temp_num  is_night  \n",
       "1  Tonight: Mostly cloudy, with a low around 62. ...        62      True  \n",
       "3  Thursday Night: A 40 percent chance of showers...        66      True  \n",
       "5  Friday Night: A 40 percent chance of showers a...        65      True  \n",
       "7  Saturday Night: Mostly clear, with a low aroun...        57      True  "
      ]
     },
     "execution_count": 112,
     "metadata": {},
     "output_type": "execute_result"
    }
   ],
   "source": [
    "weather[is_night]\n"
   ]
  },
  {
   "cell_type": "markdown",
   "metadata": {},
   "source": [
    "<h2>Conclusion</h2><hr>\n",
    "\n",
    "The reputation of web scraping has gotten a lot worse in the past few years, and for good reasons:\n",
    "\n",
    "It's increasingly being used for business purposes to gain a competitive advantage. So there's often a financial motive behind it.\n",
    "It's often done in complete disregard of copyright laws and of Terms of Service (ToS).\n",
    "It's often done in abusive manners. For example, web scrapers might send much more requests per second than what a human would do, thus causing an unexpected load on websites. They might also choose to stay anonymous and not identify themselves. Finally, they might also perform prohibited operations on websites, like circumventing the security measures that are put in place to automatically download data, which would otherwise be inaccessible.\n"
   ]
  },
  {
   "cell_type": "code",
   "execution_count": null,
   "metadata": {},
   "outputs": [],
   "source": []
  }
 ],
 "metadata": {
  "kernelspec": {
   "display_name": "Python 3",
   "language": "python",
   "name": "python3"
  },
  "language_info": {
   "codemirror_mode": {
    "name": "ipython",
    "version": 3
   },
   "file_extension": ".py",
   "mimetype": "text/x-python",
   "name": "python",
   "nbconvert_exporter": "python",
   "pygments_lexer": "ipython3",
   "version": "3.6.0"
  }
 },
 "nbformat": 4,
 "nbformat_minor": 2
}
